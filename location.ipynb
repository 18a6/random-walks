{
 "cells": [
  {
   "cell_type": "code",
   "execution_count": 2,
   "metadata": {},
   "outputs": [],
   "source": [
    "class Location(object):\n",
    "    def __init__(self, x, y):\n",
    "        \"\"\"x and y are floats\"\"\"\n",
    "        self.x = x\n",
    "        self.y = y\n",
    "\n",
    "    def move(self, deltaX, deltaY):\n",
    "        \"\"\"deltaX and deltaY are floats\"\"\"\n",
    "        return Location(self.x + deltaX,\n",
    "                        self.y + deltaY)\n",
    "    \n",
    "    def getX(self):\n",
    "        return self.x\n",
    "    \n",
    "    def getY(self):\n",
    "        return self.y\n",
    "    \n",
    "    def distFrom(self, other):\n",
    "        xDist = self.x - other.getX()\n",
    "        yDist = self.y - other.getY()\n",
    "        return (xDist**2 + yDist**2)**0.5\n",
    "    \n",
    "    def __str__(self):\n",
    "        return '<' + str(self.x) + ', ' + str(self.y) + '>'"
   ]
  },
  {
   "cell_type": "code",
   "execution_count": 3,
   "metadata": {},
   "outputs": [],
   "source": [
    "# base class, it's only purpose is to be inherited    \n",
    "class Drunk(object):\n",
    "    def __init__(self, name = None):\n",
    "        \"\"\"assumes name is a str\"\"\"\n",
    "        self.name = name\n",
    "\n",
    "    def __str__(self):\n",
    "        if self != None:\n",
    "            return self.name\n",
    "        return \"anon\""
   ]
  },
  {
   "cell_type": "code",
   "execution_count": 4,
   "metadata": {},
   "outputs": [],
   "source": [
    "import random\n",
    "\n",
    "class UsualDrunk(Drunk):\n",
    "    def takeStep(self):\n",
    "        stepChoices = [(0, 1), (0, -1), (1, 0), (-1, 0)]\n",
    "        return random.choice(stepChoices)\n",
    "\n",
    "class MasochistDrunk(Drunk):\n",
    "    def takeStep(self):\n",
    "        stepChoices = [(0.0, 1.1), (0.0, -0.9), (1.0, 0.0), (-1.0, 0.0)] # biased random walk\n",
    "        return random.choice(stepChoices)"
   ]
  },
  {
   "cell_type": "code",
   "execution_count": 5,
   "metadata": {},
   "outputs": [],
   "source": [
    "class Field(object):\n",
    "    def __init__(self):\n",
    "        self.drunks = {}\n",
    "\n",
    "    def addDrunk(self, drunk, loc):\n",
    "        if drunk in self.drunks:\n",
    "            raise ValueError('Duplicate drunk')\n",
    "        else:\n",
    "            self.drunks[drunk] = loc\n",
    "\n",
    "    def getLoc(self, drunk):\n",
    "        if drunk not in self.drunks:\n",
    "            raise ValueError('Drunk not in field')\n",
    "        return self.drunks[drunk]\n",
    "\n",
    "    def moveDrunk(self, drunk):\n",
    "        if drunk not in self.drunks:\n",
    "            raise ValueError('Drunk not in field')\n",
    "        xDist, yDist = drunk.takeStep()\n",
    "        self.drunks[drunk] = self.drunks[drunk].move(xDist, yDist)\n"
   ]
  },
  {
   "cell_type": "code",
   "execution_count": 6,
   "metadata": {},
   "outputs": [],
   "source": [
    "def walk(f, d, numSteps):\n",
    "    \"\"\"assumes f a Field, d a D a Drunk in f, and numSteps as int >= 0.\n",
    "    Moves d numSteps times; returns the distance between the final location and the location at the start of the walk.\n",
    "    \"\"\"\n",
    "    start = f.getLoc(d)\n",
    "    for s in range(numSteps):\n",
    "        f.moveDrunk(d)\n",
    "    return start.distFrom(f.getLoc(d))"
   ]
  },
  {
   "cell_type": "code",
   "execution_count": 7,
   "metadata": {},
   "outputs": [],
   "source": [
    "def simWalks(numSteps, numTrials, dClass):\n",
    "    \"\"\"assumes numSteps an int >= 0, numTrials an int > 0, dClass a subclass of Drunk.\n",
    "    Simulates numTrial walks of numSteps steps each. Returns a list of final distances for each trial.\n",
    "    \"\"\"\n",
    "    Homer = dClass()\n",
    "    origin = Location(0, 0)\n",
    "    distances = []\n",
    "    for t in range(numTrials):\n",
    "        f = Field()\n",
    "        f.addDrunk(Homer, origin)\n",
    "        distances.append(round(walk(f, Homer, numSteps), 1)) \n",
    "    return distances"
   ]
  },
  {
   "cell_type": "code",
   "execution_count": 8,
   "metadata": {},
   "outputs": [],
   "source": [
    "def drunkTest(walkLengths, numTrials, dClass):\n",
    "    \"\"\"assumes walkLengths a sequence of ints >= 0\n",
    "    numTrials an int > 0,\n",
    "    dClass a subclass of Drunk\n",
    "    for each number of steps in WalkLengths, runs simWalks with numTrials walks and prints results\n",
    "    \"\"\"\n",
    "    means = []\n",
    "    for numSteps in walkLengths:\n",
    "      distances = simWalks(numSteps, numTrials, dClass)\n",
    "      print(dClass.__name__, 'random walk of', numSteps, 'steps.')\n",
    "      mean = round(sum(distances) / len(distances), 4)\n",
    "      means.append(mean)\n",
    "      print('Mean =', mean)\n",
    "      print('Max:', max(distances),\n",
    "            'Min:', min(distances))\n",
    "    return means"
   ]
  },
  {
   "cell_type": "code",
   "execution_count": 9,
   "metadata": {},
   "outputs": [
    {
     "name": "stdout",
     "output_type": "stream",
     "text": [
      "UsualDrunk random walk of 0 steps.\n",
      "Mean = 0.0\n",
      "Max: 0.0 Min: 0.0\n",
      "UsualDrunk random walk of 1 steps.\n",
      "Mean = 1.0\n",
      "Max: 1.0 Min: 1.0\n",
      "UsualDrunk random walk of 2 steps.\n",
      "Mean = 1.1976\n",
      "Max: 2.0 Min: 0.0\n"
     ]
    },
    {
     "data": {
      "text/plain": [
       "[0.0, 1.0, 1.1976]"
      ]
     },
     "execution_count": 9,
     "metadata": {},
     "output_type": "execute_result"
    }
   ],
   "source": [
    "random.seed(0)\n",
    "# sanity check\n",
    "drunkTest((0, 1, 2), 1000, UsualDrunk) "
   ]
  },
  {
   "cell_type": "code",
   "execution_count": 10,
   "metadata": {},
   "outputs": [],
   "source": [
    "walkLengths = (10, 100, 1000, 10000)\n",
    "numTrials = 1000"
   ]
  },
  {
   "cell_type": "code",
   "execution_count": 15,
   "metadata": {},
   "outputs": [
    {
     "name": "stdout",
     "output_type": "stream",
     "text": [
      "(10, 100, 1000, 10000)\n"
     ]
    }
   ],
   "source": [
    "xVals = walkLengths\n",
    "print(xVals)"
   ]
  },
  {
   "cell_type": "code",
   "execution_count": 16,
   "metadata": {},
   "outputs": [
    {
     "name": "stdout",
     "output_type": "stream",
     "text": [
      "UsualDrunk random walk of 10 steps.\n",
      "Mean = 2.7184\n",
      "Max: 7.6 Min: 0.0\n",
      "UsualDrunk random walk of 100 steps.\n",
      "Mean = 8.8474\n",
      "Max: 28.0 Min: 0.0\n",
      "UsualDrunk random walk of 1000 steps.\n",
      "Mean = 27.6657\n",
      "Max: 80.9 Min: 0.0\n",
      "UsualDrunk random walk of 10000 steps.\n",
      "Mean = 89.4108\n",
      "Max: 283.2 Min: 1.4\n",
      "[2.7184, 8.8474, 27.6657, 89.4108]\n"
     ]
    }
   ],
   "source": [
    "yVals1 = drunkTest(walkLengths, numTrials, UsualDrunk)\n",
    "print(yVals1)"
   ]
  },
  {
   "cell_type": "code",
   "execution_count": 17,
   "metadata": {},
   "outputs": [
    {
     "name": "stdout",
     "output_type": "stream",
     "text": [
      "MasochistDrunk random walk of 10 steps.\n",
      "Mean = 2.8551\n",
      "Max: 7.8 Min: 0.0\n",
      "MasochistDrunk random walk of 100 steps.\n",
      "Mean = 9.9716\n",
      "Max: 27.7 Min: 0.0\n",
      "MasochistDrunk random walk of 1000 steps.\n",
      "Mean = 54.9962\n",
      "Max: 136.0 Min: 2.6\n",
      "MasochistDrunk random walk of 10000 steps.\n",
      "Mean = 508.4389\n",
      "Max: 724.7 Min: 284.9\n",
      "[2.8551, 9.9716, 54.9962, 508.4389]\n"
     ]
    }
   ],
   "source": [
    "yVals2 = drunkTest(walkLengths, numTrials, MasochistDrunk)\n",
    "print(yVals2)"
   ]
  },
  {
   "cell_type": "code",
   "execution_count": 18,
   "metadata": {},
   "outputs": [
    {
     "data": {
      "text/plain": [
       "<matplotlib.legend.Legend at 0x7f25a3efd120>"
      ]
     },
     "execution_count": 18,
     "metadata": {},
     "output_type": "execute_result"
    },
    {
     "data": {
      "image/png": "[encoded data removed]",
      "text/plain": [
       "<Figure size 640x480 with 1 Axes>"
      ]
     },
     "metadata": {},
     "output_type": "display_data"
    }
   ],
   "source": [
    "import pylab\n",
    "\n",
    "pylab.xlabel('walk length')\n",
    "pylab.ylabel('distance')\n",
    "pylab.title('mean distance from origin: 1000 trials')\n",
    "\n",
    "pylab.plot(xVals, yVals1, '-b', label='Usual Drunk')\n",
    "pylab.plot(xVals, yVals2, '-r', label='Masochist Drunk')\n",
    "\n",
    "pylab.legend()"
   ]
  }
 ],
 "metadata": {
  "kernelspec": {
   "display_name": "Python 3",
   "language": "python",
   "name": "python3"
  },
  "language_info": {
   "codemirror_mode": {
    "name": "ipython",
    "version": 3
   },
   "file_extension": ".py",
   "mimetype": "text/x-python",
   "name": "python",
   "nbconvert_exporter": "python",
   "pygments_lexer": "ipython3",
   "version": "3.10.12"
  },
  "orig_nbformat": 4
 },
 "nbformat": 4,
 "nbformat_minor": 2
}
