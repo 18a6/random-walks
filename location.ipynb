{
 "cells": [
  {
   "cell_type": "code",
   "execution_count": 33,
   "metadata": {},
   "outputs": [],
   "source": [
    "class Location(object):\n",
    "    def __init__(self, x, y):\n",
    "        \"\"\"x and y are floats\"\"\"\n",
    "        self.x = x\n",
    "        self.y = y\n",
    "\n",
    "    def move(self, deltaX, deltaY):\n",
    "        \"\"\"deltaX and deltaY are floats\"\"\"\n",
    "        return Location(self.x + deltaX,\n",
    "                        self.y + deltaY)\n",
    "    \n",
    "    def getX(self):\n",
    "        return self.x\n",
    "    \n",
    "    def getY(self):\n",
    "        return self.y\n",
    "    \n",
    "    def distFrom(self, other):\n",
    "        xDist = self.x - other.getX()\n",
    "        yDist = self.y - other.getY()\n",
    "        return (xDist**2 + yDist**2)**0.5\n",
    "    \n",
    "    def __str__(self):\n",
    "        return '<' + str(self.x) + ', ' + str(self.y) + '>'"
   ]
  },
  {
   "cell_type": "code",
   "execution_count": 34,
   "metadata": {},
   "outputs": [],
   "source": [
    "# base class, it's only purpose is to be inherited    \n",
    "class Drunk(object):\n",
    "    def __init__(self, name = None):\n",
    "        \"\"\"assumes name is a str\"\"\"\n",
    "        self.name = name\n",
    "\n",
    "    def __str__(self):\n",
    "        if self != None:\n",
    "            return self.name\n",
    "        return \"anon\""
   ]
  },
  {
   "cell_type": "code",
   "execution_count": 35,
   "metadata": {},
   "outputs": [],
   "source": [
    "import random\n",
    "\n",
    "class UsualDrunk(Drunk):\n",
    "    def takeStep(self):\n",
    "        stepChoices = [(0, 1), (0, -1), (1, 0), (-1, 0)]\n",
    "        return random.choice(stepChoices)\n",
    "\n",
    "class MasochistDrunk(Drunk):\n",
    "    def takeStep(self):\n",
    "        stepChoices = [(0.0, 1.1), (0.0, -0.9), (1.0, 0.0), (-1.0, 0.0)] # biased random walk\n",
    "        return random.choice(stepChoices)"
   ]
  },
  {
   "cell_type": "code",
   "execution_count": 36,
   "metadata": {},
   "outputs": [],
   "source": [
    "class Field(object):\n",
    "    def __init__(self):\n",
    "        self.drunks = {}\n",
    "\n",
    "    def addDrunk(self, drunk, loc):\n",
    "        if drunk in self.drunks:\n",
    "            raise ValueError('Duplicate drunk')\n",
    "        else:\n",
    "            self.drunks[drunk] = loc\n",
    "\n",
    "    def getLoc(self, drunk):\n",
    "        if drunk not in self.drunks:\n",
    "            raise ValueError('Drunk not in field')\n",
    "        return self.drunks[drunk]\n",
    "\n",
    "    def moveDrunk(self, drunk):\n",
    "        if drunk not in self.drunks:\n",
    "            raise ValueError('Drunk not in field')\n",
    "        xDist, yDist = drunk.takeStep()\n",
    "        self.drunks[drunk] = self.drunks[drunk].move(xDist, yDist)\n"
   ]
  },
  {
   "cell_type": "code",
   "execution_count": 37,
   "metadata": {},
   "outputs": [],
   "source": [
    "def walk(f, d, numSteps):\n",
    "    \"\"\"assumes f a Field, d a D a Drunk in f, and numSteps as int >= 0.\n",
    "    Moves d numSteps times; returns the distance between the final location and the location at the start of the walk.\n",
    "    \"\"\"\n",
    "    start = f.getLoc(d)\n",
    "    for s in range(numSteps):\n",
    "        f.moveDrunk(d)\n",
    "    return start.distFrom(f.getLoc(d))"
   ]
  },
  {
   "cell_type": "code",
   "execution_count": 38,
   "metadata": {},
   "outputs": [],
   "source": [
    "def simWalks(numSteps, numTrials, dClass):\n",
    "    \"\"\"assumes numSteps an int >= 0, numTrials an int > 0, dClass a subclass of Drunk.\n",
    "    Simulates numTrial walks of numSteps steps each. Returns a list of final distances for each trial.\n",
    "    \"\"\"\n",
    "    Homer = dClass()\n",
    "    origin = Location(0, 0)\n",
    "    distances = []\n",
    "    for t in range(numTrials):\n",
    "        f = Field()\n",
    "        f.addDrunk(Homer, origin)\n",
    "        distances.append(round(walk(f, Homer, numSteps), 1)) \n",
    "    return distances"
   ]
  },
  {
   "cell_type": "code",
   "execution_count": 70,
   "metadata": {},
   "outputs": [],
   "source": [
    "def drunkTest(walkLengths, numTrials, dClass):\n",
    "    \"\"\"assumes walkLengths a sequence of ints >= 0\n",
    "    numTrials an int > 0,\n",
    "    dClass a subclass of Drunk\n",
    "    for each number of steps in WalkLengths, runs simWalks with numTrials walks and prints results\n",
    "    \"\"\"\n",
    "    means = []\n",
    "    for numSteps in walkLengths:\n",
    "      distances = simWalks(numSteps, numTrials, dClass)\n",
    "      print(dClass.__name__, 'random walk of', numSteps, 'steps.')\n",
    "      mean = round(sum(distances) / len(distances), 4)\n",
    "      means.append(mean)\n",
    "      print('Mean =', mean)\n",
    "      print('Max:', max(distances),\n",
    "            'Min:', min(distances))\n",
    "    return means"
   ]
  },
  {
   "cell_type": "code",
   "execution_count": 71,
   "metadata": {},
   "outputs": [
    {
     "name": "stdout",
     "output_type": "stream",
     "text": [
      "UsualDrunk random walk of 0 steps.\n",
      "Mean = 0.0\n",
      "Max: 0.0 Min: 0.0\n",
      "UsualDrunk random walk of 1 steps.\n",
      "Mean = 1.0\n",
      "Max: 1.0 Min: 1.0\n",
      "UsualDrunk random walk of 2 steps.\n",
      "Mean = 1.1976\n",
      "Max: 2.0 Min: 0.0\n"
     ]
    },
    {
     "data": {
      "text/plain": [
       "[0.0, 1.0, 1.1976]"
      ]
     },
     "execution_count": 71,
     "metadata": {},
     "output_type": "execute_result"
    }
   ],
   "source": [
    "random.seed(0)\n",
    "# sanity check\n",
    "drunkTest((0, 1, 2), 1000, UsualDrunk) "
   ]
  },
  {
   "cell_type": "code",
   "execution_count": 62,
   "metadata": {},
   "outputs": [],
   "source": [
    "walkLengths = (10, 100, 1000, 10000)\n",
    "numTrials = 1000"
   ]
  },
  {
   "cell_type": "code",
   "execution_count": 63,
   "metadata": {},
   "outputs": [],
   "source": [
    "xVals = walkLengths"
   ]
  },
  {
   "cell_type": "code",
   "execution_count": 64,
   "metadata": {},
   "outputs": [
    {
     "name": "stdout",
     "output_type": "stream",
     "text": [
      "UsualDrunk random walk of 10 steps.\n",
      "Mean = 2.7888\n",
      "Max: 7.1 Min: 0.0\n",
      "UsualDrunk random walk of 100 steps.\n",
      "Mean = 9.0423\n",
      "Max: 30.5 Min: 0.0\n",
      "UsualDrunk random walk of 1000 steps.\n",
      "Mean = 28.46\n",
      "Max: 86.2 Min: 1.4\n",
      "UsualDrunk random walk of 10000 steps.\n",
      "Mean = 89.9817\n",
      "Max: 257.4 Min: 4.0\n"
     ]
    }
   ],
   "source": [
    "yVals1 = drunkTest(walkLengths, numTrials, UsualDrunk)"
   ]
  },
  {
   "cell_type": "code",
   "execution_count": 65,
   "metadata": {},
   "outputs": [
    {
     "name": "stdout",
     "output_type": "stream",
     "text": [
      "MasochistDrunk random walk of 10 steps.\n",
      "Mean = 2.89\n",
      "Max: 8.3 Min: 0.2\n",
      "MasochistDrunk random walk of 100 steps.\n",
      "Mean = 9.9853\n",
      "Max: 28.1 Min: 0.0\n",
      "MasochistDrunk random walk of 1000 steps.\n",
      "Mean = 55.7988\n",
      "Max: 117.1 Min: 1.5\n",
      "MasochistDrunk random walk of 10000 steps.\n",
      "Mean = 503.4045\n",
      "Max: 726.5 Min: 171.1\n"
     ]
    }
   ],
   "source": [
    "yVals2 = drunkTest(walkLengths, numTrials, MasochistDrunk)"
   ]
  },
  {
   "cell_type": "code",
   "execution_count": 78,
   "metadata": {},
   "outputs": [
    {
     "data": {
      "text/plain": [
       "<matplotlib.legend.Legend at 0x7fba65629d50>"
      ]
     },
     "execution_count": 78,
     "metadata": {},
     "output_type": "execute_result"
    },
    {
     "data": {
      "image/png": "[encoded data removed]",
      "text/plain": [
       "<Figure size 640x480 with 1 Axes>"
      ]
     },
     "metadata": {},
     "output_type": "display_data"
    }
   ],
   "source": [
    "import pylab\n",
    "\n",
    "pylab.xlabel('walk length')\n",
    "pylab.ylabel('distance')\n",
    "pylab.title('mean distance from origin: 1000 trials')\n",
    "\n",
    "pylab.plot(xVals, yVals1, '-b', label='Usual Drunk')\n",
    "pylab.plot(xVals, yVals2, '-r', label='Masochist Drunk')\n",
    "\n",
    "pylab.legend()"
   ]
  }
 ],
 "metadata": {
  "kernelspec": {
   "display_name": "Python 3",
   "language": "python",
   "name": "python3"
  },
  "language_info": {
   "codemirror_mode": {
    "name": "ipython",
    "version": 3
   },
   "file_extension": ".py",
   "mimetype": "text/x-python",
   "name": "python",
   "nbconvert_exporter": "python",
   "pygments_lexer": "ipython3",
   "version": "3.10.12"
  },
  "orig_nbformat": 4
 },
 "nbformat": 4,
 "nbformat_minor": 2
}
